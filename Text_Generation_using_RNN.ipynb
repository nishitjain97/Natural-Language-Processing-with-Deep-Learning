{
  "nbformat": 4,
  "nbformat_minor": 0,
  "metadata": {
    "colab": {
      "name": "Text Generation using RNN.ipynb",
      "version": "0.3.2",
      "provenance": [],
      "collapsed_sections": []
    },
    "kernelspec": {
      "name": "python3",
      "display_name": "Python 3"
    },
    "accelerator": "GPU"
  },
  "cells": [
    {
      "cell_type": "code",
      "metadata": {
        "id": "otRWz8pI5M6_",
        "colab_type": "code",
        "colab": {}
      },
      "source": [
        "from __future__ import absolute_import, division, print_function, unicode_literals\n",
        "\n",
        "import tensorflow as tf\n",
        "tf.enable_eager_execution()\n",
        "\n",
        "import numpy as np\n",
        "import os\n",
        "import time"
      ],
      "execution_count": 0,
      "outputs": []
    },
    {
      "cell_type": "code",
      "metadata": {
        "id": "hy_E_A9S5kkr",
        "colab_type": "code",
        "colab": {}
      },
      "source": [
        "path_to_file = tf.keras.utils.get_file('shakespeare.txt', 'https://storage.googleapis.com/download.tensorflow.org/data/shakespeare.txt')"
      ],
      "execution_count": 0,
      "outputs": []
    },
    {
      "cell_type": "code",
      "metadata": {
        "id": "0U6VbU9P5uYz",
        "colab_type": "code",
        "colab": {
          "base_uri": "https://localhost:8080/",
          "height": 34
        },
        "outputId": "6171d659-a0ac-44cd-85b0-5d1a78555658"
      },
      "source": [
        "text = open(path_to_file, 'rb').read().decode(encoding='utf-8')\n",
        "print('Length of text: {} character'.format(len(text)))"
      ],
      "execution_count": 73,
      "outputs": [
        {
          "output_type": "stream",
          "text": [
            "Length of text: 1115394 character\n"
          ],
          "name": "stdout"
        }
      ]
    },
    {
      "cell_type": "code",
      "metadata": {
        "id": "duPFdtRu53nD",
        "colab_type": "code",
        "colab": {
          "base_uri": "https://localhost:8080/",
          "height": 272
        },
        "outputId": "8c2dcd13-6f1e-451f-e187-d8fee0e7abbe"
      },
      "source": [
        "print(text[:250])"
      ],
      "execution_count": 74,
      "outputs": [
        {
          "output_type": "stream",
          "text": [
            "First Citizen:\n",
            "Before we proceed any further, hear me speak.\n",
            "\n",
            "All:\n",
            "Speak, speak.\n",
            "\n",
            "First Citizen:\n",
            "You are all resolved rather to die than to famish?\n",
            "\n",
            "All:\n",
            "Resolved. resolved.\n",
            "\n",
            "First Citizen:\n",
            "First, you know Caius Marcius is chief enemy to the people.\n",
            "\n"
          ],
          "name": "stdout"
        }
      ]
    },
    {
      "cell_type": "code",
      "metadata": {
        "id": "RUOle9dC549C",
        "colab_type": "code",
        "colab": {
          "base_uri": "https://localhost:8080/",
          "height": 34
        },
        "outputId": "59451929-b286-4575-8447-87426ebc646a"
      },
      "source": [
        "vocab = sorted(set(text))\n",
        "print('{} unique characters'.format(len(vocab)))"
      ],
      "execution_count": 75,
      "outputs": [
        {
          "output_type": "stream",
          "text": [
            "65 unique characters\n"
          ],
          "name": "stdout"
        }
      ]
    },
    {
      "cell_type": "code",
      "metadata": {
        "id": "fxct-eE35-74",
        "colab_type": "code",
        "colab": {}
      },
      "source": [
        "char2idx = {u:i for i, u in enumerate(vocab)}\n",
        "idx2char = np.array(vocab)\n",
        "\n",
        "text_as_int = np.array([char2idx[c] for c in text])"
      ],
      "execution_count": 0,
      "outputs": []
    },
    {
      "cell_type": "code",
      "metadata": {
        "id": "bLQBLSMl6JCZ",
        "colab_type": "code",
        "colab": {
          "base_uri": "https://localhost:8080/",
          "height": 408
        },
        "outputId": "16a3a3e1-4ea6-4f27-d5d1-f8f7c1413685"
      },
      "source": [
        "print(\"{\")\n",
        "for char, _ in zip(char2idx, range(20)):\n",
        "    print(\" {:4s}: {:3d},\".format(repr(char), char2idx[char]))\n",
        "print(\" ...\\n\")"
      ],
      "execution_count": 77,
      "outputs": [
        {
          "output_type": "stream",
          "text": [
            "{\n",
            " '\\n':   0,\n",
            " ' ' :   1,\n",
            " '!' :   2,\n",
            " '$' :   3,\n",
            " '&' :   4,\n",
            " \"'\" :   5,\n",
            " ',' :   6,\n",
            " '-' :   7,\n",
            " '.' :   8,\n",
            " '3' :   9,\n",
            " ':' :  10,\n",
            " ';' :  11,\n",
            " '?' :  12,\n",
            " 'A' :  13,\n",
            " 'B' :  14,\n",
            " 'C' :  15,\n",
            " 'D' :  16,\n",
            " 'E' :  17,\n",
            " 'F' :  18,\n",
            " 'G' :  19,\n",
            " ...\n",
            "\n"
          ],
          "name": "stdout"
        }
      ]
    },
    {
      "cell_type": "code",
      "metadata": {
        "id": "rrimaHiv6VRI",
        "colab_type": "code",
        "colab": {
          "base_uri": "https://localhost:8080/",
          "height": 34
        },
        "outputId": "8286046c-51e8-46f8-89a9-055dbd66b64b"
      },
      "source": [
        "print(\"{} ---- characters mapped to int ---- > {}\".format(repr(text[:13]), text_as_int[:13]))"
      ],
      "execution_count": 78,
      "outputs": [
        {
          "output_type": "stream",
          "text": [
            "'First Citizen' ---- characters mapped to int ---- > [18 47 56 57 58  1 15 47 58 47 64 43 52]\n"
          ],
          "name": "stdout"
        }
      ]
    },
    {
      "cell_type": "code",
      "metadata": {
        "id": "gwXhTbue6fyg",
        "colab_type": "code",
        "colab": {
          "base_uri": "https://localhost:8080/",
          "height": 102
        },
        "outputId": "733e7aad-4e1f-4ff9-c635-4cd1c219000e"
      },
      "source": [
        "seq_length = 100\n",
        "examples_per_epoch = len(text) // seq_length\n",
        "\n",
        "char_dataset = tf.data.Dataset.from_tensor_slices(text_as_int)\n",
        "\n",
        "for i in char_dataset.take(5):\n",
        "    print(idx2char[i.numpy()])"
      ],
      "execution_count": 79,
      "outputs": [
        {
          "output_type": "stream",
          "text": [
            "F\n",
            "i\n",
            "r\n",
            "s\n",
            "t\n"
          ],
          "name": "stdout"
        }
      ]
    },
    {
      "cell_type": "code",
      "metadata": {
        "id": "nnJWluLN7duv",
        "colab_type": "code",
        "colab": {
          "base_uri": "https://localhost:8080/",
          "height": 122
        },
        "outputId": "1a265fd1-4fc3-440c-b686-6f7f250b3d2d"
      },
      "source": [
        "sequences = char_dataset.batch(seq_length+1, drop_remainder=True)\n",
        "\n",
        "for item in sequences.take(5):\n",
        "    print(repr(''.join(idx2char[item.numpy()])))"
      ],
      "execution_count": 80,
      "outputs": [
        {
          "output_type": "stream",
          "text": [
            "'First Citizen:\\nBefore we proceed any further, hear me speak.\\n\\nAll:\\nSpeak, speak.\\n\\nFirst Citizen:\\nYou '\n",
            "'are all resolved rather to die than to famish?\\n\\nAll:\\nResolved. resolved.\\n\\nFirst Citizen:\\nFirst, you k'\n",
            "\"now Caius Marcius is chief enemy to the people.\\n\\nAll:\\nWe know't, we know't.\\n\\nFirst Citizen:\\nLet us ki\"\n",
            "\"ll him, and we'll have corn at our own price.\\nIs't a verdict?\\n\\nAll:\\nNo more talking on't; let it be d\"\n",
            "'one: away, away!\\n\\nSecond Citizen:\\nOne word, good citizens.\\n\\nFirst Citizen:\\nWe are accounted poor citi'\n"
          ],
          "name": "stdout"
        }
      ]
    },
    {
      "cell_type": "code",
      "metadata": {
        "id": "21WyrkPL7nh2",
        "colab_type": "code",
        "colab": {}
      },
      "source": [
        "def split_input_target(chunk):\n",
        "    input_text = chunk[:-1]\n",
        "    target_text = chunk[1:]\n",
        "    return input_text, target_text\n",
        "\n",
        "dataset = sequences.map(split_input_target)"
      ],
      "execution_count": 0,
      "outputs": []
    },
    {
      "cell_type": "code",
      "metadata": {
        "id": "UwiB-2nH75_7",
        "colab_type": "code",
        "colab": {
          "base_uri": "https://localhost:8080/",
          "height": 71
        },
        "outputId": "72f1d736-8556-44c4-d1c2-0bd9e7893728"
      },
      "source": [
        "for input_example, target_example in dataset.take(1):\n",
        "    print(\"Input data: \", repr(''.join(idx2char[input_example.numpy()])))\n",
        "    print(\"Target data: \", repr(''.join(idx2char[target_example.numpy()])))"
      ],
      "execution_count": 82,
      "outputs": [
        {
          "output_type": "stream",
          "text": [
            "Input data:  'First Citizen:\\nBefore we proceed any further, hear me speak.\\n\\nAll:\\nSpeak, speak.\\n\\nFirst Citizen:\\nYou'\n",
            "Target data:  'irst Citizen:\\nBefore we proceed any further, hear me speak.\\n\\nAll:\\nSpeak, speak.\\n\\nFirst Citizen:\\nYou '\n"
          ],
          "name": "stdout"
        }
      ]
    },
    {
      "cell_type": "code",
      "metadata": {
        "id": "OVXAUr6q8FnZ",
        "colab_type": "code",
        "colab": {
          "base_uri": "https://localhost:8080/",
          "height": 272
        },
        "outputId": "821983f1-29ec-447e-8c72-01bafb2000ef"
      },
      "source": [
        "for i, (input_idx, target_idx) in enumerate(zip(input_example[:5], target_example[:5])):\n",
        "    print(\"Step {:4d}\".format(i))\n",
        "    print(\" input: {} ({:s})\".format(input_idx, repr(idx2char[input_idx])))\n",
        "    print(\" output: {} ({:s})\".format(target_idx, repr(idx2char[target_idx])))"
      ],
      "execution_count": 83,
      "outputs": [
        {
          "output_type": "stream",
          "text": [
            "Step    0\n",
            " input: 18 ('F')\n",
            " output: 47 ('i')\n",
            "Step    1\n",
            " input: 47 ('i')\n",
            " output: 56 ('r')\n",
            "Step    2\n",
            " input: 56 ('r')\n",
            " output: 57 ('s')\n",
            "Step    3\n",
            " input: 57 ('s')\n",
            " output: 58 ('t')\n",
            "Step    4\n",
            " input: 58 ('t')\n",
            " output: 1 (' ')\n"
          ],
          "name": "stdout"
        }
      ]
    },
    {
      "cell_type": "code",
      "metadata": {
        "id": "8XLubAou8dov",
        "colab_type": "code",
        "colab": {
          "base_uri": "https://localhost:8080/",
          "height": 34
        },
        "outputId": "ca64637e-7512-47dd-ad58-d9ba7652ced6"
      },
      "source": [
        "BATCH_SIZE = 64\n",
        "steps_per_epoch = examples_per_epoch // BATCH_SIZE\n",
        "\n",
        "BUFFER_SIZE = 10000\n",
        "\n",
        "dataset = dataset.shuffle(BUFFER_SIZE).batch(BATCH_SIZE, drop_remainder=True)\n",
        "dataset"
      ],
      "execution_count": 84,
      "outputs": [
        {
          "output_type": "execute_result",
          "data": {
            "text/plain": [
              "<DatasetV1Adapter shapes: ((64, 100), (64, 100)), types: (tf.int64, tf.int64)>"
            ]
          },
          "metadata": {
            "tags": []
          },
          "execution_count": 84
        }
      ]
    },
    {
      "cell_type": "code",
      "metadata": {
        "id": "Z2v5cgkz8rHh",
        "colab_type": "code",
        "colab": {}
      },
      "source": [
        "vocab_size = len(vocab)\n",
        "embedding_dim = 256\n",
        "rnn_units = 1024"
      ],
      "execution_count": 0,
      "outputs": []
    },
    {
      "cell_type": "code",
      "metadata": {
        "id": "DVjk_rs080QR",
        "colab_type": "code",
        "colab": {}
      },
      "source": [
        "if tf.test.is_gpu_available():\n",
        "    rnn = tf.keras.layers.CuDNNGRU\n",
        "else:\n",
        "    import functools\n",
        "    rnn = functools.partial(\n",
        "        tf.keras.layers.GRU,\n",
        "        recurrent_activation='sigmoid'\n",
        "    )"
      ],
      "execution_count": 0,
      "outputs": []
    },
    {
      "cell_type": "code",
      "metadata": {
        "id": "TyQMnZDQ9Am3",
        "colab_type": "code",
        "colab": {}
      },
      "source": [
        "def build_model(vocab_size, embedding_dim, rnn_units, batch_size):\n",
        "    model = tf.keras.Sequential([\n",
        "        tf.keras.layers.Embedding(vocab_size, embedding_dim, batch_input_shape=[batch_size, None]),\n",
        "        rnn(rnn_units, \n",
        "            return_sequences=True,\n",
        "            recurrent_initializer='glorot_uniform', \n",
        "            stateful=True),\n",
        "        tf.keras.layers.Dense(vocab_size)\n",
        "    ])\n",
        "    return model"
      ],
      "execution_count": 0,
      "outputs": []
    },
    {
      "cell_type": "code",
      "metadata": {
        "id": "IBTqVvDc9YIs",
        "colab_type": "code",
        "colab": {}
      },
      "source": [
        "model = build_model(\n",
        "    vocab_size=len(vocab),\n",
        "    embedding_dim=embedding_dim,\n",
        "    rnn_units=rnn_units,\n",
        "    batch_size=BATCH_SIZE\n",
        ")"
      ],
      "execution_count": 0,
      "outputs": []
    },
    {
      "cell_type": "code",
      "metadata": {
        "id": "hv2oFvMD9hWb",
        "colab_type": "code",
        "colab": {
          "base_uri": "https://localhost:8080/",
          "height": 34
        },
        "outputId": "7859edc2-419f-421e-8138-86bdb7bb21e8"
      },
      "source": [
        "for input_example_batch, target_example_batch in dataset.take(1):\n",
        "    example_batch_predictions = model(input_example_batch)\n",
        "    print(example_batch_predictions.shape, \"# (batch_size, sequence_length, vocab_size)\")"
      ],
      "execution_count": 89,
      "outputs": [
        {
          "output_type": "stream",
          "text": [
            "(64, 100, 65) # (batch_size, sequence_length, vocab_size)\n"
          ],
          "name": "stdout"
        }
      ]
    },
    {
      "cell_type": "code",
      "metadata": {
        "id": "ni8-ZMl-92L9",
        "colab_type": "code",
        "colab": {
          "base_uri": "https://localhost:8080/",
          "height": 255
        },
        "outputId": "5dccdf57-c1de-4ff9-91cb-425b77ee340a"
      },
      "source": [
        "model.summary()"
      ],
      "execution_count": 90,
      "outputs": [
        {
          "output_type": "stream",
          "text": [
            "Model: \"sequential_2\"\n",
            "_________________________________________________________________\n",
            "Layer (type)                 Output Shape              Param #   \n",
            "=================================================================\n",
            "embedding_2 (Embedding)      (64, None, 256)           16640     \n",
            "_________________________________________________________________\n",
            "cu_dnngru_2 (CuDNNGRU)       (64, None, 1024)          3938304   \n",
            "_________________________________________________________________\n",
            "dense_2 (Dense)              (64, None, 65)            66625     \n",
            "=================================================================\n",
            "Total params: 4,021,569\n",
            "Trainable params: 4,021,569\n",
            "Non-trainable params: 0\n",
            "_________________________________________________________________\n"
          ],
          "name": "stdout"
        }
      ]
    },
    {
      "cell_type": "code",
      "metadata": {
        "id": "BaQxC8gT-Alh",
        "colab_type": "code",
        "colab": {}
      },
      "source": [
        "sampled_indices = tf.random.categorical(example_batch_predictions[0], num_samples=1)\n",
        "sampled_indices = tf.squeeze(sampled_indices, axis=-1).numpy()"
      ],
      "execution_count": 0,
      "outputs": []
    },
    {
      "cell_type": "code",
      "metadata": {
        "id": "UM44p6yT-OS1",
        "colab_type": "code",
        "colab": {
          "base_uri": "https://localhost:8080/",
          "height": 119
        },
        "outputId": "63d45311-4aa3-45fe-f3e3-c25ff3fbac9e"
      },
      "source": [
        "sampled_indices"
      ],
      "execution_count": 92,
      "outputs": [
        {
          "output_type": "execute_result",
          "data": {
            "text/plain": [
              "array([34, 25, 21, 29, 64, 24, 41, 47, 21,  9, 11, 16,  1, 56,  0,  1, 15,\n",
              "       51, 57, 44, 60,  9, 24, 44, 46,  4, 41,  2, 18, 64, 46, 13,  7, 24,\n",
              "        5, 43, 43, 11, 25, 48, 10, 38, 35, 58, 31, 18, 29,  1, 52, 17, 37,\n",
              "       37, 12, 14,  5, 35, 61,  3, 40, 60, 31,  6, 11, 60, 47, 39, 37, 26,\n",
              "       36, 25, 15, 12, 58, 43, 47, 57, 42,  6, 11, 11, 26, 29, 43,  6, 11,\n",
              "       43, 53,  4, 64, 53, 59,  9, 49, 42, 49, 46, 28, 19, 17, 26])"
            ]
          },
          "metadata": {
            "tags": []
          },
          "execution_count": 92
        }
      ]
    },
    {
      "cell_type": "code",
      "metadata": {
        "id": "e_8sYmgI-P46",
        "colab_type": "code",
        "colab": {
          "base_uri": "https://localhost:8080/",
          "height": 122
        },
        "outputId": "e761a853-fc00-4360-ee73-fe90e1a71bc8"
      },
      "source": [
        "print(\"Input: \\n\", repr(\"\".join(idx2char[input_example_batch[0]])))\n",
        "print()\n",
        "print(\"Next Char Predictions: \\n\", repr(''.join(idx2char[sampled_indices])))"
      ],
      "execution_count": 93,
      "outputs": [
        {
          "output_type": "stream",
          "text": [
            "Input: \n",
            " \" his time,\\nUnto the rigour of severest law.\\n\\nPRINCE:\\nWe still have known thee for a holy man.\\nWhere'\"\n",
            "\n",
            "Next Char Predictions: \n",
            " \"VMIQzLciI3;D r\\n Cmsfv3Lfh&c!FzhA-L'ee;Mj:ZWtSFQ nEYY?B'Ww$bvS,;viaYNXMC?teisd,;;NQe,;eo&zou3kdkhPGEN\"\n"
          ],
          "name": "stdout"
        }
      ]
    },
    {
      "cell_type": "code",
      "metadata": {
        "id": "TZ8PUVq6-hxF",
        "colab_type": "code",
        "colab": {}
      },
      "source": [
        "def loss(labels, logits):\n",
        "    return tf.keras.losses.sparse_categorical_crossentropy(labels, logits, from_logits=True)"
      ],
      "execution_count": 0,
      "outputs": []
    },
    {
      "cell_type": "code",
      "metadata": {
        "id": "43FLbl-M_QHM",
        "colab_type": "code",
        "colab": {
          "base_uri": "https://localhost:8080/",
          "height": 51
        },
        "outputId": "5a62763d-01cc-42a8-f43c-17d95227cefa"
      },
      "source": [
        "example_batch_loss = loss(target_example_batch, example_batch_predictions)\n",
        "print(\"Prediction shape: \", example_batch_predictions.shape, \" # (batch_size, sequence_length, vocab_size)\")\n",
        "print(\"Scalar loss: \", example_batch_loss.numpy().mean())"
      ],
      "execution_count": 95,
      "outputs": [
        {
          "output_type": "stream",
          "text": [
            "Prediction shape:  (64, 100, 65)  # (batch_size, sequence_length, vocab_size)\n",
            "Scalar loss:  4.1746297\n"
          ],
          "name": "stdout"
        }
      ]
    },
    {
      "cell_type": "code",
      "metadata": {
        "id": "_KSRxx2U_c__",
        "colab_type": "code",
        "colab": {}
      },
      "source": [
        "model.compile(\n",
        "    optimizer=tf.train.AdamOptimizer(),\n",
        "    loss=loss\n",
        ")"
      ],
      "execution_count": 0,
      "outputs": []
    },
    {
      "cell_type": "code",
      "metadata": {
        "id": "VLSl2pqs_i4a",
        "colab_type": "code",
        "colab": {}
      },
      "source": [
        "checkpoint_dir = './training_checkpoints'\n",
        "checkpoint_prefix = os.path.join(checkpoint_dir, \"ckpt_{epoch}\")\n",
        "\n",
        "checkpoint_callback = tf.keras.callbacks.ModelCheckpoint(\n",
        "    filepath=checkpoint_prefix,\n",
        "    save_weights_only=True\n",
        ")"
      ],
      "execution_count": 0,
      "outputs": []
    },
    {
      "cell_type": "code",
      "metadata": {
        "id": "_dGFtnKZ_zQF",
        "colab_type": "code",
        "colab": {}
      },
      "source": [
        "EPOCHS=30"
      ],
      "execution_count": 0,
      "outputs": []
    },
    {
      "cell_type": "code",
      "metadata": {
        "id": "UZympsXV_4VO",
        "colab_type": "code",
        "colab": {
          "base_uri": "https://localhost:8080/",
          "height": 1000
        },
        "outputId": "73b5c56e-2142-4fa2-d1f6-6be7ca4a2504"
      },
      "source": [
        "history = model.fit(dataset.repeat(), epochs=EPOCHS, steps_per_epoch=steps_per_epoch, callbacks=[checkpoint_callback])"
      ],
      "execution_count": 99,
      "outputs": [
        {
          "output_type": "stream",
          "text": [
            "Epoch 1/30\n",
            "174/174 [==============================] - 27s 153ms/step - loss: 2.6591\n",
            "Epoch 2/30\n",
            "174/174 [==============================] - 24s 138ms/step - loss: 1.9359\n",
            "Epoch 3/30\n",
            "174/174 [==============================] - 24s 138ms/step - loss: 1.6749\n",
            "Epoch 4/30\n",
            "174/174 [==============================] - 24s 138ms/step - loss: 1.5319\n",
            "Epoch 5/30\n",
            "174/174 [==============================] - 24s 138ms/step - loss: 1.4469\n",
            "Epoch 6/30\n",
            "173/174 [============================>.] - ETA: 0s - loss: 1.3906"
          ],
          "name": "stdout"
        },
        {
          "output_type": "stream",
          "text": [
            "W0704 16:51:40.019556 139874215450496 util.py:244] Unresolved object in checkpoint: (root).optimizer\n",
            "W0704 16:51:40.020974 139874215450496 util.py:244] Unresolved object in checkpoint: (root).optimizer.optimizer\n",
            "W0704 16:51:40.021946 139874215450496 util.py:244] Unresolved object in checkpoint: (root).optimizer.global_step\n",
            "W0704 16:51:40.027604 139874215450496 util.py:244] Unresolved object in checkpoint: (root).optimizer.optimizer.beta1_power\n",
            "W0704 16:51:40.030297 139874215450496 util.py:244] Unresolved object in checkpoint: (root).optimizer.optimizer.beta2_power\n",
            "W0704 16:51:40.032487 139874215450496 util.py:244] Unresolved object in checkpoint: (root).optimizer.optimizer's state 'm' for (root).layer_with_weights-0.embeddings\n",
            "W0704 16:51:40.034448 139874215450496 util.py:244] Unresolved object in checkpoint: (root).optimizer.optimizer's state 'm' for (root).layer_with_weights-1.kernel\n",
            "W0704 16:51:40.036342 139874215450496 util.py:244] Unresolved object in checkpoint: (root).optimizer.optimizer's state 'm' for (root).layer_with_weights-1.recurrent_kernel\n",
            "W0704 16:51:40.038693 139874215450496 util.py:244] Unresolved object in checkpoint: (root).optimizer.optimizer's state 'm' for (root).layer_with_weights-1.bias\n",
            "W0704 16:51:40.040609 139874215450496 util.py:244] Unresolved object in checkpoint: (root).optimizer.optimizer's state 'm' for (root).layer_with_weights-2.kernel\n",
            "W0704 16:51:40.043222 139874215450496 util.py:244] Unresolved object in checkpoint: (root).optimizer.optimizer's state 'm' for (root).layer_with_weights-2.bias\n",
            "W0704 16:51:40.045160 139874215450496 util.py:244] Unresolved object in checkpoint: (root).optimizer.optimizer's state 'v' for (root).layer_with_weights-0.embeddings\n",
            "W0704 16:51:40.047574 139874215450496 util.py:244] Unresolved object in checkpoint: (root).optimizer.optimizer's state 'v' for (root).layer_with_weights-1.kernel\n",
            "W0704 16:51:40.049359 139874215450496 util.py:244] Unresolved object in checkpoint: (root).optimizer.optimizer's state 'v' for (root).layer_with_weights-1.recurrent_kernel\n",
            "W0704 16:51:40.051822 139874215450496 util.py:244] Unresolved object in checkpoint: (root).optimizer.optimizer's state 'v' for (root).layer_with_weights-1.bias\n",
            "W0704 16:51:40.053572 139874215450496 util.py:244] Unresolved object in checkpoint: (root).optimizer.optimizer's state 'v' for (root).layer_with_weights-2.kernel\n",
            "W0704 16:51:40.056107 139874215450496 util.py:244] Unresolved object in checkpoint: (root).optimizer.optimizer's state 'v' for (root).layer_with_weights-2.bias\n",
            "W0704 16:51:40.058956 139874215450496 util.py:252] A checkpoint was restored (e.g. tf.train.Checkpoint.restore or tf.keras.Model.load_weights) but not all checkpointed values were used. See above for specific issues. Use expect_partial() on the load status object, e.g. tf.train.Checkpoint.restore(...).expect_partial(), to silence these warnings, or use assert_consumed() to make the check explicit. See https://www.tensorflow.org/alpha/guide/checkpoints#loading_mechanics for details.\n"
          ],
          "name": "stderr"
        },
        {
          "output_type": "stream",
          "text": [
            "174/174 [==============================] - 24s 139ms/step - loss: 1.3904\n",
            "Epoch 7/30\n",
            "174/174 [==============================] - 24s 138ms/step - loss: 1.3445\n",
            "Epoch 8/30\n",
            "174/174 [==============================] - 24s 139ms/step - loss: 1.3069\n",
            "Epoch 9/30\n",
            "174/174 [==============================] - 24s 138ms/step - loss: 1.2745\n",
            "Epoch 10/30\n",
            "174/174 [==============================] - 24s 139ms/step - loss: 1.2412\n",
            "Epoch 11/30\n",
            "174/174 [==============================] - 24s 138ms/step - loss: 1.2090\n",
            "Epoch 12/30\n",
            "174/174 [==============================] - 24s 138ms/step - loss: 1.1775\n",
            "Epoch 13/30\n",
            "174/174 [==============================] - 24s 138ms/step - loss: 1.1450\n",
            "Epoch 14/30\n",
            "174/174 [==============================] - 24s 138ms/step - loss: 1.1133\n",
            "Epoch 15/30\n",
            "174/174 [==============================] - 24s 138ms/step - loss: 1.0811\n",
            "Epoch 16/30\n",
            "174/174 [==============================] - 24s 138ms/step - loss: 1.0466\n",
            "Epoch 17/30\n",
            "174/174 [==============================] - 24s 137ms/step - loss: 1.0122\n",
            "Epoch 18/30\n",
            "174/174 [==============================] - 24s 137ms/step - loss: 0.9786\n",
            "Epoch 19/30\n",
            "174/174 [==============================] - 24s 138ms/step - loss: 0.9437\n",
            "Epoch 20/30\n",
            "174/174 [==============================] - 24s 138ms/step - loss: 0.9117\n",
            "Epoch 21/30\n",
            "174/174 [==============================] - 24s 138ms/step - loss: 0.8792\n",
            "Epoch 22/30\n",
            "174/174 [==============================] - 24s 138ms/step - loss: 0.8496\n",
            "Epoch 23/30\n",
            "174/174 [==============================] - 24s 138ms/step - loss: 0.8271\n",
            "Epoch 24/30\n",
            "174/174 [==============================] - 24s 138ms/step - loss: 0.8018\n",
            "Epoch 25/30\n",
            "174/174 [==============================] - 24s 138ms/step - loss: 0.7795\n",
            "Epoch 26/30\n",
            "174/174 [==============================] - 24s 138ms/step - loss: 0.7628\n",
            "Epoch 27/30\n",
            "174/174 [==============================] - 24s 138ms/step - loss: 0.7466\n",
            "Epoch 28/30\n",
            "174/174 [==============================] - 24s 138ms/step - loss: 0.7314\n",
            "Epoch 29/30\n",
            "174/174 [==============================] - 24s 139ms/step - loss: 0.7202\n",
            "Epoch 30/30\n",
            "174/174 [==============================] - 24s 138ms/step - loss: 0.7085\n"
          ],
          "name": "stdout"
        }
      ]
    },
    {
      "cell_type": "code",
      "metadata": {
        "id": "rbdLKge4ABbA",
        "colab_type": "code",
        "colab": {
          "base_uri": "https://localhost:8080/",
          "height": 34
        },
        "outputId": "39a7d687-df96-4d08-f59b-dbc8dba7afe4"
      },
      "source": [
        "tf.train.latest_checkpoint(checkpoint_dir)"
      ],
      "execution_count": 100,
      "outputs": [
        {
          "output_type": "execute_result",
          "data": {
            "text/plain": [
              "'./training_checkpoints/ckpt_30'"
            ]
          },
          "metadata": {
            "tags": []
          },
          "execution_count": 100
        }
      ]
    },
    {
      "cell_type": "code",
      "metadata": {
        "id": "M_2HRDjHys2x",
        "colab_type": "code",
        "colab": {}
      },
      "source": [
        "model = build_model(vocab_size, embedding_dim, rnn_units, batch_size=1)\n",
        "model.load_weights(tf.train.latest_checkpoint(checkpoint_dir))\n",
        "model.build(tf.TensorShape([1, None]))"
      ],
      "execution_count": 0,
      "outputs": []
    },
    {
      "cell_type": "code",
      "metadata": {
        "id": "IMV7oQ0ey3xd",
        "colab_type": "code",
        "colab": {
          "base_uri": "https://localhost:8080/",
          "height": 255
        },
        "outputId": "458c2764-dac1-4fd6-fece-21ce72ff699e"
      },
      "source": [
        "model.summary()"
      ],
      "execution_count": 102,
      "outputs": [
        {
          "output_type": "stream",
          "text": [
            "Model: \"sequential_3\"\n",
            "_________________________________________________________________\n",
            "Layer (type)                 Output Shape              Param #   \n",
            "=================================================================\n",
            "embedding_3 (Embedding)      (1, None, 256)            16640     \n",
            "_________________________________________________________________\n",
            "cu_dnngru_3 (CuDNNGRU)       (1, None, 1024)           3938304   \n",
            "_________________________________________________________________\n",
            "dense_3 (Dense)              (1, None, 65)             66625     \n",
            "=================================================================\n",
            "Total params: 4,021,569\n",
            "Trainable params: 4,021,569\n",
            "Non-trainable params: 0\n",
            "_________________________________________________________________\n"
          ],
          "name": "stdout"
        }
      ]
    },
    {
      "cell_type": "code",
      "metadata": {
        "id": "VAHy4W-dy4w6",
        "colab_type": "code",
        "colab": {}
      },
      "source": [
        "def generate_text(model, start_string):\n",
        "    num_generate = 1000\n",
        "    \n",
        "    input_eval = [char2idx[s] for s in start_string]\n",
        "    input_eval = tf.expand_dims(input_eval, 0)\n",
        "    \n",
        "    text_generated = []\n",
        "    \n",
        "    temperature = 1.0\n",
        "    \n",
        "    model.reset_states()\n",
        "    \n",
        "    for i in range(num_generate):\n",
        "        predictions = model(input_eval)\n",
        "        \n",
        "        predictions = tf.squeeze(predictions, 0)\n",
        "        \n",
        "        predictions = predictions / temperature\n",
        "        predicted_id = tf.multinomial(predictions, num_samples=1)[-1, 0].numpy()\n",
        "        \n",
        "        input_eval = tf.expand_dims([predicted_id], 0)\n",
        "        \n",
        "        text_generated.append(idx2char[predicted_id])\n",
        "        \n",
        "    return (start_string + ''.join(text_generated))"
      ],
      "execution_count": 0,
      "outputs": []
    },
    {
      "cell_type": "code",
      "metadata": {
        "id": "3X_IiMER1onW",
        "colab_type": "code",
        "colab": {
          "base_uri": "https://localhost:8080/",
          "height": 544
        },
        "outputId": "70891101-89fe-4f2d-fdc2-1250bf845c8e"
      },
      "source": [
        "print(generate_text(model, start_string=u\"ROMEO: \"))"
      ],
      "execution_count": 104,
      "outputs": [
        {
          "output_type": "stream",
          "text": [
            "ROMEO: my lord.\n",
            "\n",
            "LEONTES:\n",
            "Shall I being their lordship's love,\n",
            "Put up the lightning, which I have put the fairies. Pray you, go to.\n",
            "You shall have a his nature, should thee mercy:\n",
            "I will take thy hand doth say and stay unto Richard's love.\n",
            "\n",
            "HENRY PERCY:\n",
            "No, my good lord; it was a piteous droody throne.\n",
            "\n",
            "GLOUCESTER:\n",
            "And how my heart were flay blown paper to toward the boar that is most love,\n",
            "That I shall discover all this haste gay and men\n",
            "contined with peace and practise. D Englishmen:\n",
            "What patiently hear my life, a goodly spirit,\n",
            "Or how the joined stolen ounds restored and fort-\n",
            "To know your widow's blood at the queen him first.\n",
            "\n",
            "DUKE OF YORK:\n",
            "What colours I should call?\n",
            "\n",
            "PARIS:\n",
            "Say the contrary doth make her most is true,\n",
            "Even to a bough and masks their foes,\n",
            "My fittest embrace and forts many mounted ruther\n",
            "Will baunt with her, though I have bittenly, forseef\n",
            "Thou ld 'Claughter with thy words crown'd with place,\n",
            "And the occasion of a cut off thy\n",
            "brgined in their clouds contented ashame;\n",
            "We \n"
          ],
          "name": "stdout"
        }
      ]
    },
    {
      "cell_type": "code",
      "metadata": {
        "id": "m1w6pKtn1sz9",
        "colab_type": "code",
        "colab": {}
      },
      "source": [
        ""
      ],
      "execution_count": 0,
      "outputs": []
    }
  ]
}