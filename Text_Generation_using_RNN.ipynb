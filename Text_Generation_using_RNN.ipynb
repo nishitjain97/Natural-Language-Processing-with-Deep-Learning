{
  "nbformat": 4,
  "nbformat_minor": 0,
  "metadata": {
    "colab": {
      "name": "Text Generation using RNN.ipynb",
      "version": "0.3.2",
      "provenance": [],
      "collapsed_sections": []
    },
    "kernelspec": {
      "name": "python3",
      "display_name": "Python 3"
    },
    "accelerator": "GPU"
  },
  "cells": [
    {
      "cell_type": "code",
      "metadata": {
        "id": "otRWz8pI5M6_",
        "colab_type": "code",
        "colab": {}
      },
      "source": [
        "from __future__ import absolute_import, division, print_function, unicode_literals\n",
        "\n",
        "import tensorflow as tf\n",
        "tf.enable_eager_execution()\n",
        "\n",
        "import numpy as np\n",
        "import os\n",
        "import time"
      ],
      "execution_count": 0,
      "outputs": []
    },
    {
      "cell_type": "code",
      "metadata": {
        "id": "hy_E_A9S5kkr",
        "colab_type": "code",
        "colab": {
          "base_uri": "https://localhost:8080/",
          "height": 51
        },
        "outputId": "7a9921b7-402c-4504-a767-179eabec107b"
      },
      "source": [
        "path_to_file = tf.keras.utils.get_file('shakespeare.txt', 'https://storage.googleapis.com/download.tensorflow.org/data/shakespeare.txt')"
      ],
      "execution_count": 2,
      "outputs": [
        {
          "output_type": "stream",
          "text": [
            "Downloading data from https://storage.googleapis.com/download.tensorflow.org/data/shakespeare.txt\n",
            "1122304/1115394 [==============================] - 0s 0us/step\n"
          ],
          "name": "stdout"
        }
      ]
    },
    {
      "cell_type": "code",
      "metadata": {
        "id": "0U6VbU9P5uYz",
        "colab_type": "code",
        "outputId": "cff2ee6d-84a1-42d1-f121-57c0b5e9a58a",
        "colab": {
          "base_uri": "https://localhost:8080/",
          "height": 34
        }
      },
      "source": [
        "text = open(path_to_file, 'rb').read().decode(encoding='utf-8')\n",
        "print('Length of text: {} character'.format(len(text)))"
      ],
      "execution_count": 3,
      "outputs": [
        {
          "output_type": "stream",
          "text": [
            "Length of text: 1115394 character\n"
          ],
          "name": "stdout"
        }
      ]
    },
    {
      "cell_type": "code",
      "metadata": {
        "id": "duPFdtRu53nD",
        "colab_type": "code",
        "outputId": "4758d282-bef7-44b0-faea-d737fc9027ab",
        "colab": {
          "base_uri": "https://localhost:8080/",
          "height": 272
        }
      },
      "source": [
        "print(text[:250])"
      ],
      "execution_count": 4,
      "outputs": [
        {
          "output_type": "stream",
          "text": [
            "First Citizen:\n",
            "Before we proceed any further, hear me speak.\n",
            "\n",
            "All:\n",
            "Speak, speak.\n",
            "\n",
            "First Citizen:\n",
            "You are all resolved rather to die than to famish?\n",
            "\n",
            "All:\n",
            "Resolved. resolved.\n",
            "\n",
            "First Citizen:\n",
            "First, you know Caius Marcius is chief enemy to the people.\n",
            "\n"
          ],
          "name": "stdout"
        }
      ]
    },
    {
      "cell_type": "code",
      "metadata": {
        "id": "RUOle9dC549C",
        "colab_type": "code",
        "outputId": "282aa5ad-f94b-497e-f148-14961eb49c6a",
        "colab": {
          "base_uri": "https://localhost:8080/",
          "height": 34
        }
      },
      "source": [
        "vocab = sorted(set(text))\n",
        "print('{} unique characters'.format(len(vocab)))"
      ],
      "execution_count": 5,
      "outputs": [
        {
          "output_type": "stream",
          "text": [
            "65 unique characters\n"
          ],
          "name": "stdout"
        }
      ]
    },
    {
      "cell_type": "code",
      "metadata": {
        "id": "fxct-eE35-74",
        "colab_type": "code",
        "colab": {}
      },
      "source": [
        "char2idx = {u:i for i, u in enumerate(vocab)}\n",
        "idx2char = np.array(vocab)\n",
        "\n",
        "text_as_int = np.array([char2idx[c] for c in text])"
      ],
      "execution_count": 0,
      "outputs": []
    },
    {
      "cell_type": "code",
      "metadata": {
        "id": "bLQBLSMl6JCZ",
        "colab_type": "code",
        "outputId": "8abb8342-e973-4f06-fd10-0281dbf122fa",
        "colab": {
          "base_uri": "https://localhost:8080/",
          "height": 408
        }
      },
      "source": [
        "print(\"{\")\n",
        "for char, _ in zip(char2idx, range(20)):\n",
        "    print(\" {:4s}: {:3d},\".format(repr(char), char2idx[char]))\n",
        "print(\" ...\\n\")"
      ],
      "execution_count": 7,
      "outputs": [
        {
          "output_type": "stream",
          "text": [
            "{\n",
            " '\\n':   0,\n",
            " ' ' :   1,\n",
            " '!' :   2,\n",
            " '$' :   3,\n",
            " '&' :   4,\n",
            " \"'\" :   5,\n",
            " ',' :   6,\n",
            " '-' :   7,\n",
            " '.' :   8,\n",
            " '3' :   9,\n",
            " ':' :  10,\n",
            " ';' :  11,\n",
            " '?' :  12,\n",
            " 'A' :  13,\n",
            " 'B' :  14,\n",
            " 'C' :  15,\n",
            " 'D' :  16,\n",
            " 'E' :  17,\n",
            " 'F' :  18,\n",
            " 'G' :  19,\n",
            " ...\n",
            "\n"
          ],
          "name": "stdout"
        }
      ]
    },
    {
      "cell_type": "code",
      "metadata": {
        "id": "rrimaHiv6VRI",
        "colab_type": "code",
        "outputId": "307f0132-3c11-4a53-8a2b-cf3b7782e66a",
        "colab": {
          "base_uri": "https://localhost:8080/",
          "height": 34
        }
      },
      "source": [
        "print(\"{} ---- characters mapped to int ---- > {}\".format(repr(text[:13]), text_as_int[:13]))"
      ],
      "execution_count": 8,
      "outputs": [
        {
          "output_type": "stream",
          "text": [
            "'First Citizen' ---- characters mapped to int ---- > [18 47 56 57 58  1 15 47 58 47 64 43 52]\n"
          ],
          "name": "stdout"
        }
      ]
    },
    {
      "cell_type": "code",
      "metadata": {
        "id": "gwXhTbue6fyg",
        "colab_type": "code",
        "outputId": "35b4bc00-7c16-405f-9138-fe74d40e4638",
        "colab": {
          "base_uri": "https://localhost:8080/",
          "height": 102
        }
      },
      "source": [
        "seq_length = 100\n",
        "examples_per_epoch = len(text) // seq_length\n",
        "\n",
        "char_dataset = tf.data.Dataset.from_tensor_slices(text_as_int)\n",
        "\n",
        "for i in char_dataset.take(5):\n",
        "    print(idx2char[i.numpy()])"
      ],
      "execution_count": 9,
      "outputs": [
        {
          "output_type": "stream",
          "text": [
            "F\n",
            "i\n",
            "r\n",
            "s\n",
            "t\n"
          ],
          "name": "stdout"
        }
      ]
    },
    {
      "cell_type": "code",
      "metadata": {
        "id": "nnJWluLN7duv",
        "colab_type": "code",
        "outputId": "e15b36a5-cd89-449f-be5c-1d684e0cdd0f",
        "colab": {
          "base_uri": "https://localhost:8080/",
          "height": 122
        }
      },
      "source": [
        "sequences = char_dataset.batch(seq_length+1, drop_remainder=True)\n",
        "\n",
        "for item in sequences.take(5):\n",
        "    print(repr(''.join(idx2char[item.numpy()])))"
      ],
      "execution_count": 10,
      "outputs": [
        {
          "output_type": "stream",
          "text": [
            "'First Citizen:\\nBefore we proceed any further, hear me speak.\\n\\nAll:\\nSpeak, speak.\\n\\nFirst Citizen:\\nYou '\n",
            "'are all resolved rather to die than to famish?\\n\\nAll:\\nResolved. resolved.\\n\\nFirst Citizen:\\nFirst, you k'\n",
            "\"now Caius Marcius is chief enemy to the people.\\n\\nAll:\\nWe know't, we know't.\\n\\nFirst Citizen:\\nLet us ki\"\n",
            "\"ll him, and we'll have corn at our own price.\\nIs't a verdict?\\n\\nAll:\\nNo more talking on't; let it be d\"\n",
            "'one: away, away!\\n\\nSecond Citizen:\\nOne word, good citizens.\\n\\nFirst Citizen:\\nWe are accounted poor citi'\n"
          ],
          "name": "stdout"
        }
      ]
    },
    {
      "cell_type": "code",
      "metadata": {
        "id": "21WyrkPL7nh2",
        "colab_type": "code",
        "colab": {}
      },
      "source": [
        "def split_input_target(chunk):\n",
        "    input_text = chunk[:-1]\n",
        "    target_text = chunk[1:]\n",
        "    return input_text, target_text\n",
        "\n",
        "dataset = sequences.map(split_input_target)"
      ],
      "execution_count": 0,
      "outputs": []
    },
    {
      "cell_type": "code",
      "metadata": {
        "id": "UwiB-2nH75_7",
        "colab_type": "code",
        "outputId": "fa44cb42-e5c1-4d9e-c5c0-389056f9a7ba",
        "colab": {
          "base_uri": "https://localhost:8080/",
          "height": 71
        }
      },
      "source": [
        "for input_example, target_example in dataset.take(1):\n",
        "    print(\"Input data: \", repr(''.join(idx2char[input_example.numpy()])))\n",
        "    print(\"Target data: \", repr(''.join(idx2char[target_example.numpy()])))"
      ],
      "execution_count": 15,
      "outputs": [
        {
          "output_type": "stream",
          "text": [
            "Input data:  'First Citizen:\\nBefore we proceed any further, hear me speak.\\n\\nAll:\\nSpeak, speak.\\n\\nFirst Citizen:\\nYou'\n",
            "Target data:  'irst Citizen:\\nBefore we proceed any further, hear me speak.\\n\\nAll:\\nSpeak, speak.\\n\\nFirst Citizen:\\nYou '\n"
          ],
          "name": "stdout"
        }
      ]
    },
    {
      "cell_type": "code",
      "metadata": {
        "id": "OVXAUr6q8FnZ",
        "colab_type": "code",
        "outputId": "6dc49b17-0d8c-43d9-ea59-a778f1c7ff4c",
        "colab": {
          "base_uri": "https://localhost:8080/",
          "height": 272
        }
      },
      "source": [
        "for i, (input_idx, target_idx) in enumerate(zip(input_example[:5], target_example[:5])):\n",
        "    print(\"Step {:4d}\".format(i))\n",
        "    print(\" input: {} ({:s})\".format(input_idx, repr(idx2char[input_idx])))\n",
        "    print(\" output: {} ({:s})\".format(target_idx, repr(idx2char[target_idx])))"
      ],
      "execution_count": 16,
      "outputs": [
        {
          "output_type": "stream",
          "text": [
            "Step    0\n",
            " input: 18 ('F')\n",
            " output: 47 ('i')\n",
            "Step    1\n",
            " input: 47 ('i')\n",
            " output: 56 ('r')\n",
            "Step    2\n",
            " input: 56 ('r')\n",
            " output: 57 ('s')\n",
            "Step    3\n",
            " input: 57 ('s')\n",
            " output: 58 ('t')\n",
            "Step    4\n",
            " input: 58 ('t')\n",
            " output: 1 (' ')\n"
          ],
          "name": "stdout"
        }
      ]
    },
    {
      "cell_type": "code",
      "metadata": {
        "id": "8XLubAou8dov",
        "colab_type": "code",
        "outputId": "33ecea01-1b70-4ce0-ab0c-f03858291e6c",
        "colab": {
          "base_uri": "https://localhost:8080/",
          "height": 34
        }
      },
      "source": [
        "BATCH_SIZE = 64\n",
        "steps_per_epoch = examples_per_epoch // BATCH_SIZE\n",
        "\n",
        "BUFFER_SIZE = 10000\n",
        "\n",
        "dataset = dataset.shuffle(BUFFER_SIZE).batch(BATCH_SIZE, drop_remainder=True)\n",
        "dataset"
      ],
      "execution_count": 17,
      "outputs": [
        {
          "output_type": "execute_result",
          "data": {
            "text/plain": [
              "<DatasetV1Adapter shapes: ((64, 100), (64, 100)), types: (tf.int64, tf.int64)>"
            ]
          },
          "metadata": {
            "tags": []
          },
          "execution_count": 17
        }
      ]
    },
    {
      "cell_type": "code",
      "metadata": {
        "id": "Z2v5cgkz8rHh",
        "colab_type": "code",
        "colab": {}
      },
      "source": [
        "vocab_size = len(vocab)\n",
        "embedding_dim = 256\n",
        "rnn_units = 1024"
      ],
      "execution_count": 0,
      "outputs": []
    },
    {
      "cell_type": "code",
      "metadata": {
        "id": "DVjk_rs080QR",
        "colab_type": "code",
        "colab": {}
      },
      "source": [
        "if tf.test.is_gpu_available():\n",
        "    rnn = tf.keras.layers.CuDNNGRU\n",
        "else:\n",
        "    import functools\n",
        "    rnn = functools.partial(\n",
        "        tf.keras.layers.GRU,\n",
        "        recurrent_activation='sigmoid'\n",
        "    )"
      ],
      "execution_count": 0,
      "outputs": []
    },
    {
      "cell_type": "code",
      "metadata": {
        "id": "TyQMnZDQ9Am3",
        "colab_type": "code",
        "colab": {}
      },
      "source": [
        "def build_model(vocab_size, embedding_dim, rnn_units, batch_size):\n",
        "    model = tf.keras.Sequential([\n",
        "        tf.keras.layers.Embedding(vocab_size, embedding_dim, batch_input_shape=[batch_size, None]),\n",
        "        rnn(rnn_units, \n",
        "            return_sequences=True,\n",
        "            recurrent_initializer='glorot_uniform', \n",
        "            stateful=True),\n",
        "        tf.keras.layers.Dense(vocab_size)\n",
        "    ])\n",
        "    return model"
      ],
      "execution_count": 0,
      "outputs": []
    },
    {
      "cell_type": "code",
      "metadata": {
        "id": "IBTqVvDc9YIs",
        "colab_type": "code",
        "colab": {}
      },
      "source": [
        "model = build_model(\n",
        "    vocab_size=len(vocab),\n",
        "    embedding_dim=embedding_dim,\n",
        "    rnn_units=rnn_units,\n",
        "    batch_size=BATCH_SIZE\n",
        ")"
      ],
      "execution_count": 0,
      "outputs": []
    },
    {
      "cell_type": "code",
      "metadata": {
        "id": "hv2oFvMD9hWb",
        "colab_type": "code",
        "outputId": "2ebc2ba0-f976-4cbb-e3cf-674413a41498",
        "colab": {
          "base_uri": "https://localhost:8080/",
          "height": 34
        }
      },
      "source": [
        "for input_example_batch, target_example_batch in dataset.take(1):\n",
        "    example_batch_predictions = model(input_example_batch)\n",
        "    print(example_batch_predictions.shape, \"# (batch_size, sequence_length, vocab_size)\")"
      ],
      "execution_count": 22,
      "outputs": [
        {
          "output_type": "stream",
          "text": [
            "(64, 100, 65) # (batch_size, sequence_length, vocab_size)\n"
          ],
          "name": "stdout"
        }
      ]
    },
    {
      "cell_type": "code",
      "metadata": {
        "id": "ni8-ZMl-92L9",
        "colab_type": "code",
        "outputId": "6c9ec59f-3994-45d7-9fb3-8f038f28fd69",
        "colab": {
          "base_uri": "https://localhost:8080/",
          "height": 255
        }
      },
      "source": [
        "model.summary()"
      ],
      "execution_count": 23,
      "outputs": [
        {
          "output_type": "stream",
          "text": [
            "Model: \"sequential\"\n",
            "_________________________________________________________________\n",
            "Layer (type)                 Output Shape              Param #   \n",
            "=================================================================\n",
            "embedding (Embedding)        (64, None, 256)           16640     \n",
            "_________________________________________________________________\n",
            "cu_dnngru (CuDNNGRU)         (64, None, 1024)          3938304   \n",
            "_________________________________________________________________\n",
            "dense (Dense)                (64, None, 65)            66625     \n",
            "=================================================================\n",
            "Total params: 4,021,569\n",
            "Trainable params: 4,021,569\n",
            "Non-trainable params: 0\n",
            "_________________________________________________________________\n"
          ],
          "name": "stdout"
        }
      ]
    },
    {
      "cell_type": "code",
      "metadata": {
        "id": "BaQxC8gT-Alh",
        "colab_type": "code",
        "colab": {}
      },
      "source": [
        "sampled_indices = tf.random.categorical(example_batch_predictions[0], num_samples=1)\n",
        "sampled_indices = tf.squeeze(sampled_indices, axis=-1).numpy()"
      ],
      "execution_count": 0,
      "outputs": []
    },
    {
      "cell_type": "code",
      "metadata": {
        "id": "UM44p6yT-OS1",
        "colab_type": "code",
        "outputId": "f4a2cd8d-943b-470f-b63b-0cbfa6643c17",
        "colab": {
          "base_uri": "https://localhost:8080/",
          "height": 119
        }
      },
      "source": [
        "sampled_indices"
      ],
      "execution_count": 25,
      "outputs": [
        {
          "output_type": "execute_result",
          "data": {
            "text/plain": [
              "array([10, 49, 28, 10, 21, 56, 57,  8, 61,  6, 21, 25, 62, 15, 39, 41, 42,\n",
              "       11, 15, 14, 57,  7, 19,  5, 24, 17, 49, 16, 47, 57, 47, 23,  8, 43,\n",
              "       47, 28, 50, 62, 20,  1, 59, 55, 47, 29, 55, 20, 10, 63, 17, 45, 32,\n",
              "       38, 11, 38, 29, 52, 44, 17, 23, 52, 52,  6, 38, 36, 39, 23, 28, 48,\n",
              "       35,  9, 31, 40, 64, 48, 20,  9, 34, 60, 15, 29, 47, 32,  8, 60, 12,\n",
              "       41,  8, 26,  1, 11, 25, 57, 21,  2, 33,  5, 55, 27, 43, 24])"
            ]
          },
          "metadata": {
            "tags": []
          },
          "execution_count": 25
        }
      ]
    },
    {
      "cell_type": "code",
      "metadata": {
        "id": "e_8sYmgI-P46",
        "colab_type": "code",
        "outputId": "e89357ea-be30-4897-aa16-a26d958b3abb",
        "colab": {
          "base_uri": "https://localhost:8080/",
          "height": 122
        }
      },
      "source": [
        "print(\"Input: \\n\", repr(\"\".join(idx2char[input_example_batch[0]])))\n",
        "print()\n",
        "print(\"Next Char Predictions: \\n\", repr(''.join(idx2char[sampled_indices])))"
      ],
      "execution_count": 26,
      "outputs": [
        {
          "output_type": "stream",
          "text": [
            "Input: \n",
            " 'breathed your curse against yourself.\\n\\nQUEEN MARGARET:\\nPoor painted queen, vain flourish of my fortu'\n",
            "\n",
            "Next Char Predictions: \n",
            " \":kP:Irs.w,IMxCacd;CBs-G'LEkDisiK.eiPlxH uqiQqH:yEgTZ;ZQnfEKnn,ZXaKPjW3SbzjH3VvCQiT.v?c.N ;MsI!U'qOeL\"\n"
          ],
          "name": "stdout"
        }
      ]
    },
    {
      "cell_type": "code",
      "metadata": {
        "id": "TZ8PUVq6-hxF",
        "colab_type": "code",
        "colab": {}
      },
      "source": [
        "def loss(labels, logits):\n",
        "    return tf.keras.losses.sparse_categorical_crossentropy(labels, logits, from_logits=True)"
      ],
      "execution_count": 0,
      "outputs": []
    },
    {
      "cell_type": "code",
      "metadata": {
        "id": "43FLbl-M_QHM",
        "colab_type": "code",
        "outputId": "3e4737a9-9e6e-4b8b-f74a-9af80ed76142",
        "colab": {
          "base_uri": "https://localhost:8080/",
          "height": 51
        }
      },
      "source": [
        "example_batch_loss = loss(target_example_batch, example_batch_predictions)\n",
        "print(\"Prediction shape: \", example_batch_predictions.shape, \" # (batch_size, sequence_length, vocab_size)\")\n",
        "print(\"Scalar loss: \", example_batch_loss.numpy().mean())"
      ],
      "execution_count": 28,
      "outputs": [
        {
          "output_type": "stream",
          "text": [
            "Prediction shape:  (64, 100, 65)  # (batch_size, sequence_length, vocab_size)\n",
            "Scalar loss:  4.1732845\n"
          ],
          "name": "stdout"
        }
      ]
    },
    {
      "cell_type": "code",
      "metadata": {
        "id": "_KSRxx2U_c__",
        "colab_type": "code",
        "colab": {}
      },
      "source": [
        "model.compile(\n",
        "    optimizer=tf.train.AdamOptimizer(),\n",
        "    loss=loss\n",
        ")"
      ],
      "execution_count": 0,
      "outputs": []
    },
    {
      "cell_type": "code",
      "metadata": {
        "id": "VLSl2pqs_i4a",
        "colab_type": "code",
        "colab": {}
      },
      "source": [
        "checkpoint_dir = './training_checkpoints'\n",
        "checkpoint_prefix = os.path.join(checkpoint_dir, \"ckpt_{epoch}\")\n",
        "\n",
        "checkpoint_callback = tf.keras.callbacks.ModelCheckpoint(\n",
        "    filepath=checkpoint_prefix,\n",
        "    save_weights_only=True\n",
        ")"
      ],
      "execution_count": 0,
      "outputs": []
    },
    {
      "cell_type": "code",
      "metadata": {
        "id": "_dGFtnKZ_zQF",
        "colab_type": "code",
        "colab": {}
      },
      "source": [
        "EPOCHS=30"
      ],
      "execution_count": 0,
      "outputs": []
    },
    {
      "cell_type": "code",
      "metadata": {
        "id": "UZympsXV_4VO",
        "colab_type": "code",
        "outputId": "07ab6632-e53d-4441-cbce-e63224cb6ccc",
        "colab": {
          "base_uri": "https://localhost:8080/",
          "height": 1000
        }
      },
      "source": [
        "history = model.fit(dataset.repeat(), epochs=EPOCHS, steps_per_epoch=steps_per_epoch, callbacks=[checkpoint_callback])"
      ],
      "execution_count": 32,
      "outputs": [
        {
          "output_type": "stream",
          "text": [
            "Epoch 1/30\n",
            "174/174 [==============================] - 28s 160ms/step - loss: 2.6896\n",
            "Epoch 2/30\n",
            "174/174 [==============================] - 25s 146ms/step - loss: 1.9318\n",
            "Epoch 3/30\n",
            "174/174 [==============================] - 25s 146ms/step - loss: 1.6717\n",
            "Epoch 4/30\n",
            "174/174 [==============================] - 25s 146ms/step - loss: 1.5298\n",
            "Epoch 5/30\n",
            "174/174 [==============================] - 25s 146ms/step - loss: 1.4452\n",
            "Epoch 6/30\n",
            "174/174 [==============================] - 25s 146ms/step - loss: 1.3868\n",
            "Epoch 7/30\n",
            "174/174 [==============================] - 26s 147ms/step - loss: 1.3420\n",
            "Epoch 8/30\n",
            "174/174 [==============================] - 25s 146ms/step - loss: 1.3045\n",
            "Epoch 9/30\n",
            "174/174 [==============================] - 25s 146ms/step - loss: 1.2708\n",
            "Epoch 10/30\n",
            "174/174 [==============================] - 25s 146ms/step - loss: 1.2390\n",
            "Epoch 11/30\n",
            "174/174 [==============================] - 25s 146ms/step - loss: 1.2069\n",
            "Epoch 12/30\n",
            "174/174 [==============================] - 25s 146ms/step - loss: 1.1763\n",
            "Epoch 13/30\n",
            "174/174 [==============================] - 25s 145ms/step - loss: 1.1474\n",
            "Epoch 14/30\n",
            "174/174 [==============================] - 25s 146ms/step - loss: 1.1138\n",
            "Epoch 15/30\n",
            "174/174 [==============================] - 25s 146ms/step - loss: 1.0808\n",
            "Epoch 16/30\n",
            "174/174 [==============================] - 25s 146ms/step - loss: 1.0457\n",
            "Epoch 17/30\n",
            "174/174 [==============================] - 25s 146ms/step - loss: 1.0122\n",
            "Epoch 18/30\n",
            "174/174 [==============================] - 25s 146ms/step - loss: 0.9802\n",
            "Epoch 19/30\n",
            "174/174 [==============================] - 25s 146ms/step - loss: 0.9452\n",
            "Epoch 20/30\n",
            "174/174 [==============================] - 25s 146ms/step - loss: 0.9135\n",
            "Epoch 21/30\n",
            "174/174 [==============================] - 25s 146ms/step - loss: 0.8831\n",
            "Epoch 22/30\n",
            "174/174 [==============================] - 25s 146ms/step - loss: 0.8517\n",
            "Epoch 23/30\n",
            "174/174 [==============================] - 25s 146ms/step - loss: 0.8283\n",
            "Epoch 24/30\n",
            "174/174 [==============================] - 25s 146ms/step - loss: 0.8053\n",
            "Epoch 25/30\n",
            "174/174 [==============================] - 25s 146ms/step - loss: 0.7855\n",
            "Epoch 26/30\n",
            "174/174 [==============================] - 25s 146ms/step - loss: 0.7638\n",
            "Epoch 27/30\n",
            "174/174 [==============================] - 25s 146ms/step - loss: 0.7483\n",
            "Epoch 28/30\n",
            "174/174 [==============================] - 25s 145ms/step - loss: 0.7328\n",
            "Epoch 29/30\n",
            "174/174 [==============================] - 25s 146ms/step - loss: 0.7216\n",
            "Epoch 30/30\n",
            "174/174 [==============================] - 25s 146ms/step - loss: 0.7119\n"
          ],
          "name": "stdout"
        }
      ]
    },
    {
      "cell_type": "code",
      "metadata": {
        "id": "rbdLKge4ABbA",
        "colab_type": "code",
        "outputId": "bd119229-a96c-4090-ee3c-e020d1c1fde5",
        "colab": {
          "base_uri": "https://localhost:8080/",
          "height": 34
        }
      },
      "source": [
        "tf.train.latest_checkpoint(checkpoint_dir)"
      ],
      "execution_count": 33,
      "outputs": [
        {
          "output_type": "execute_result",
          "data": {
            "text/plain": [
              "'./training_checkpoints/ckpt_30'"
            ]
          },
          "metadata": {
            "tags": []
          },
          "execution_count": 33
        }
      ]
    },
    {
      "cell_type": "code",
      "metadata": {
        "id": "M_2HRDjHys2x",
        "colab_type": "code",
        "colab": {}
      },
      "source": [
        "model = build_model(vocab_size, embedding_dim, rnn_units, batch_size=1)\n",
        "model.load_weights(tf.train.latest_checkpoint(checkpoint_dir))\n",
        "model.build(tf.TensorShape([1, None]))"
      ],
      "execution_count": 0,
      "outputs": []
    },
    {
      "cell_type": "code",
      "metadata": {
        "id": "IMV7oQ0ey3xd",
        "colab_type": "code",
        "outputId": "f2dcfe7f-0960-4d62-9b85-db7ebf825d6e",
        "colab": {
          "base_uri": "https://localhost:8080/",
          "height": 255
        }
      },
      "source": [
        "model.summary()"
      ],
      "execution_count": 35,
      "outputs": [
        {
          "output_type": "stream",
          "text": [
            "Model: \"sequential_1\"\n",
            "_________________________________________________________________\n",
            "Layer (type)                 Output Shape              Param #   \n",
            "=================================================================\n",
            "embedding_1 (Embedding)      (1, None, 256)            16640     \n",
            "_________________________________________________________________\n",
            "cu_dnngru_1 (CuDNNGRU)       (1, None, 1024)           3938304   \n",
            "_________________________________________________________________\n",
            "dense_1 (Dense)              (1, None, 65)             66625     \n",
            "=================================================================\n",
            "Total params: 4,021,569\n",
            "Trainable params: 4,021,569\n",
            "Non-trainable params: 0\n",
            "_________________________________________________________________\n"
          ],
          "name": "stdout"
        }
      ]
    },
    {
      "cell_type": "code",
      "metadata": {
        "id": "VAHy4W-dy4w6",
        "colab_type": "code",
        "colab": {}
      },
      "source": [
        "def generate_text(model, start_string):\n",
        "    num_generate = 1000\n",
        "    \n",
        "    input_eval = [char2idx[s] for s in start_string]\n",
        "    input_eval = tf.expand_dims(input_eval, 0)\n",
        "    \n",
        "    text_generated = []\n",
        "    \n",
        "    temperature = 1.0\n",
        "    \n",
        "    model.reset_states()\n",
        "    \n",
        "    for i in range(num_generate):\n",
        "        predictions = model(input_eval)\n",
        "        \n",
        "        predictions = tf.squeeze(predictions, 0)\n",
        "        \n",
        "        predictions = predictions / temperature\n",
        "        predicted_id = tf.multinomial(predictions, num_samples=1)[-1, 0].numpy()\n",
        "        \n",
        "        input_eval = tf.expand_dims([predicted_id], 0)\n",
        "        \n",
        "        text_generated.append(idx2char[predicted_id])\n",
        "        \n",
        "    return (start_string + ''.join(text_generated))"
      ],
      "execution_count": 0,
      "outputs": []
    },
    {
      "cell_type": "code",
      "metadata": {
        "id": "3X_IiMER1onW",
        "colab_type": "code",
        "outputId": "327eb900-b6cb-4a81-d20e-3864cdd4fdee",
        "colab": {
          "base_uri": "https://localhost:8080/",
          "height": 802
        }
      },
      "source": [
        "print(generate_text(model, start_string=u\"ROMEO: \"))"
      ],
      "execution_count": 37,
      "outputs": [
        {
          "output_type": "stream",
          "text": [
            "WARNING: Logging before flag parsing goes to stderr.\n",
            "W0708 16:17:39.771296 139856563066752 deprecation.py:323] From <ipython-input-36-c43f35a8fc58>:19: multinomial (from tensorflow.python.ops.random_ops) is deprecated and will be removed in a future version.\n",
            "Instructions for updating:\n",
            "Use `tf.random.categorical` instead.\n"
          ],
          "name": "stderr"
        },
        {
          "output_type": "stream",
          "text": [
            "ROMEO: good sir, we are\n",
            "Will never fall balm and sweeter bastards:\n",
            "Her one as Your holds me speak.\n",
            "\n",
            "SICINIUS:\n",
            "Mercy isld,\n",
            "And overgate to my bed, o' the gate!\n",
            "\n",
            "KING HENRY VI:\n",
            "And shall sake the window'st perform; and Mantua\n",
            "Noy to report the chamble?\n",
            "\n",
            "CATESBY:\n",
            "We meas'd in mine have done!\n",
            "\n",
            "PRINCE EDWARD:\n",
            "Nay, mark her knowing? I must have, must die?\n",
            "\n",
            "LADY GREY:\n",
            "God for a hire is once. When he sits done\n",
            "That thou hast wrought;\n",
            "And by the right and state as 'twere no crown,\n",
            "To make thee cunning of devoted profes,\n",
            "thou talk'st\n",
            "Upon thy desent daughter: one being so remain?\n",
            "\n",
            "SLY:\n",
            "I'll give thee mercy then.\n",
            "Be\n",
            "Whose honourable house this my dreams;\n",
            "Which before merciful's, things but a traitor, thou there lies\n",
            "Till titting joy\n",
            "That he drews on this afternoon; 'tis there an injury,\n",
            "That it should seem as scarce had been\n",
            "Paris simple the music of sworn and aid\n",
            "And level at my countenance of this sictle time\n",
            "Where being treasure here of remorse;\n",
            "Which seem she's dead, and have absent.\n",
            "\n",
            "LUCENTIO:\n",
            "And \n"
          ],
          "name": "stdout"
        }
      ]
    },
    {
      "cell_type": "code",
      "metadata": {
        "id": "XeoNBeVhaddV",
        "colab_type": "code",
        "colab": {}
      },
      "source": [
        "model = build_model(\n",
        "    vocab_size = len(vocab),\n",
        "    embedding_dim = embedding_dim,\n",
        "    rnn_units = rnn_units,\n",
        "    batch_size = BATCH_SIZE\n",
        ")"
      ],
      "execution_count": 0,
      "outputs": []
    },
    {
      "cell_type": "code",
      "metadata": {
        "id": "hZ2Wz-pjalyv",
        "colab_type": "code",
        "colab": {}
      },
      "source": [
        "optimizer = tf.train.AdamOptimizer()"
      ],
      "execution_count": 0,
      "outputs": []
    },
    {
      "cell_type": "code",
      "metadata": {
        "id": "m1w6pKtn1sz9",
        "colab_type": "code",
        "colab": {
          "base_uri": "https://localhost:8080/",
          "height": 51
        },
        "outputId": "caa49935-9c56-4bf1-a197-ab562097ecf7"
      },
      "source": [
        "EPOCHS = 1\n",
        "\n",
        "for epoch in range(EPOCHS):\n",
        "    start = time.time()\n",
        "    \n",
        "    hidden = model.reset_states()\n",
        "    \n",
        "    for (batch_n, (inp, target)) in enumerate(dataset):\n",
        "        with tf.GradientTape() as tape:\n",
        "            predictions = model(inp)\n",
        "            loss = tf.losses.sparse_softmax_cross_entropy(target, predictions)\n",
        "            \n",
        "        grads = tape.gradient(loss, model.trainable_variables)\n",
        "        optimizer.apply_gradients(zip(grads, model.trainable_variables))\n",
        "        \n",
        "        if batch_n % 100 == 0:\n",
        "            template = \"Epoch {} Batch {} Loss {:.4f}\"\n",
        "            print(template.format(epoch+1, batch_n, loss))\n",
        "            \n",
        "model.save_weights(checkpoint_prefix.format(epoch=epoch))"
      ],
      "execution_count": 43,
      "outputs": [
        {
          "output_type": "stream",
          "text": [
            "Epoch 1 Batch 0 Loss 4.1743\n",
            "Epoch 1 Batch 100 Loss 2.3788\n"
          ],
          "name": "stdout"
        }
      ]
    },
    {
      "cell_type": "code",
      "metadata": {
        "id": "IsMWDLo6Zw8J",
        "colab_type": "code",
        "colab": {}
      },
      "source": [
        ""
      ],
      "execution_count": 0,
      "outputs": []
    }
  ]
}